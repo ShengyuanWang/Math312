{
 "cells": [
  {
   "cell_type": "code",
   "execution_count": 1,
   "id": "63e14d26",
   "metadata": {},
   "outputs": [],
   "source": [
    "# import the third-part library\n",
    "import numpy as np\n",
    "import matplotlib.pyplot as plt\n",
    "from mpl_toolkits.mplot3d import Axes3D\n",
    "plt.style.use('dark_background')"
   ]
  },
  {
   "cell_type": "code",
   "execution_count": 2,
   "id": "7a48c03b",
   "metadata": {},
   "outputs": [],
   "source": [
    "# set the masses of planets\n",
    "m_1, m_2, m_3 = 10, 20, 30\n",
    "\n",
    "# set the coordintes for planets\n",
    "# p1_start = x_1, y_1, z_1\n",
    "p1_start = np.array([-10, 10, -11])\n",
    "v1_start = np.array([-3, 0, 0])\n",
    "\n",
    "# p2_start = x_2, y_2, z_2\n",
    "p2_start = np.array([0, 0, 0])\n",
    "v2_start = np.array([0, 0, 0])\n",
    "\n",
    "# p3_start = x_3, y_3, z_3\n",
    "p3_start = np.array([10, 10, 12.00000])\n",
    "v3_start = np.array([3, 0, 0])\n",
    "\n",
    "# starting coordinates for planets shifted\n",
    "# p1_start = x_1, y_1, z_1\n",
    "p1_start_prime = np.array([-10, 10, -11])\n",
    "v1_start_prime = np.array([-3, 0, 0])\n",
    "\n",
    "# p2_start = x_2, y_2, z_2\n",
    "p2_start_prime = np.array([0, 0, 0])\n",
    "v2_start_prime = np.array([0, 0, 0])\n",
    "\n",
    "# p3_start = x_3, y_3, z_3\n",
    "p3_start_prime = np.array([10, 10, 12.000001])\n",
    "v3_start_prime = np.array([3, 0, 0])"
   ]
  },
  {
   "cell_type": "code",
   "execution_count": 3,
   "id": "584186c5",
   "metadata": {},
   "outputs": [],
   "source": [
    "def accelerations(p1, p2, p3):\n",
    "    '''A function to calculate the derivatives of x, y, and z\n",
    "    given 3 object and their locations according to Newton's laws\n",
    "    '''\n",
    "    planet_1_dv = -9.8 * m_2 * (p1 - p2)/(np.sqrt(np.sum([i**2 for i in p1 - p2]))**3) - 9.8 * m_3 * (p1 - p3)/(np.sqrt(np.sum([i**2 for i in p1 - p3]))**3)\n",
    "\n",
    "    planet_2_dv = -9.8 * m_3 * (p2 - p3)/(np.sqrt(np.sum([i**2 for i in p2 - p3]))**3) - 9.8 * m_1 * (p2 - p1)/(np.sqrt(np.sum([i**2 for i in p2 - p1]))**3)\n",
    "\n",
    "    planet_3_dv = -9.8 * m_1 * (p3 - p1)/(np.sqrt(np.sum([i**2 for i in p3 - p1]))**3) - 9.8 * m_2 * (p3 - p2)/(np.sqrt(np.sum([i**2 for i in p3 - p2]))**3)\n",
    "\n",
    "    return planet_1_dv, planet_2_dv, planet_3_dv"
   ]
  },
  {
   "cell_type": "code",
   "execution_count": 4,
   "id": "001f59e7",
   "metadata": {},
   "outputs": [],
   "source": [
    "# time parameters\n",
    "delta_t = 0.001\n",
    "steps = 100000"
   ]
  },
  {
   "cell_type": "code",
   "execution_count": 5,
   "id": "8db3c57d",
   "metadata": {},
   "outputs": [],
   "source": [
    "# initialize solution array\n",
    "p1 = np.array([[0.,0.,0.] for i in range(steps)])\n",
    "v1 = np.array([[0.,0.,0.] for i in range(steps)])\n",
    "\n",
    "p2 = np.array([[0.,0.,0.] for j in range(steps)])\n",
    "v2 = np.array([[0.,0.,0.] for j in range(steps)])\n",
    "\n",
    "p3 = np.array([[0.,0.,0.] for k in range(steps)])\n",
    "v3 = np.array([[0.,0.,0.] for k in range(steps)])\n",
    "\n",
    "# second trajectory start, for comparison to (p1, p2, p3)\n",
    "p1_prime = np.array([[0.,0.,0.] for i in range(steps)])\n",
    "v1_prime = np.array([[0.,0.,0.] for i in range(steps)])\n",
    "\n",
    "p2_prime = np.array([[0.,0.,0.] for j in range(steps)])\n",
    "v2_prime = np.array([[0.,0.,0.] for j in range(steps)])\n",
    "\n",
    "p3_prime = np.array([[0.,0.,0.] for k in range(steps)])\n",
    "v3_prime = np.array([[0.,0.,0.] for k in range(steps)])"
   ]
  },
  {
   "cell_type": "code",
   "execution_count": 6,
   "id": "0d3df2b6",
   "metadata": {},
   "outputs": [],
   "source": [
    "# starting points\n",
    "p1[0], p2[0], p3[0] = p1_start, p2_start, p3_start\n",
    "\n",
    "v1[0], v2[0], v3[0] = v1_start, v2_start, v3_start\n",
    "\n",
    "p1_prime[0], p2_prime[0], p3_prime[0] = p1_start_prime, p2_start_prime, p3_start_prime\n",
    "\n",
    "v1_prime[0], v2_prime[0], v3_prime[0] = v1_start_prime, v2_start_prime, v3_start_prime\n",
    "\n",
    "time = [0]"
   ]
  },
  {
   "cell_type": "code",
   "execution_count": 14,
   "id": "bb1bce1a",
   "metadata": {},
   "outputs": [],
   "source": [
    "# evolution of the system\n",
    "for i in range(steps-1):\n",
    "    # time.append(i)\n",
    "\n",
    "    # calculate derivatives\n",
    "    dv1, dv2, dv3 = accelerations(p1[i], p2[i], p3[i])\n",
    "    dv1_prime, dv2_prime, dv3_prime = accelerations(p1_prime[i], p2_prime[i], p3_prime[i])\n",
    "\n",
    "    v1[i + 1] = v1[i] + dv1 * delta_t\n",
    "    v2[i + 1] = v2[i] + dv2 * delta_t\n",
    "    v3[i + 1] = v3[i] + dv3 * delta_t\n",
    "\n",
    "    p1[i + 1] = p1[i] + v1[i] * delta_t\n",
    "    p2[i + 1] = p2[i] + v2[i] * delta_t\n",
    "    p3[i + 1] = p3[i] + v3[i] * delta_t\n",
    "\n",
    "    # alternate trajectory (primes are not derivatives)\n",
    "    v1_prime[i + 1] = v1_prime[i] + dv1_prime * delta_t\n",
    "    v2_prime[i + 1] = v2_prime[i] + dv2_prime * delta_t\n",
    "    v3_prime[i + 1] = v3_prime[i] + dv3_prime * delta_t\n",
    "\n",
    "    p1_prime[i + 1] = p1_prime[i] + v1_prime[i] * delta_t\n",
    "    p2_prime[i + 1] = p2_prime[i] + v2_prime[i] * delta_t\n",
    "    p3_prime[i + 1] = p3_prime[i] + v3_prime[i] * delta_t\n",
    "\n",
    "# For the purposes of plotting trajectories overt time\n",
    "\n",
    "    if i % 1000 == 0:\n",
    "        fig = plt.figure(figsize=(10, 10))\n",
    "        ax = fig.gca(projection='3d')\n",
    "        plt.gca().patch.set_facecolor('black')\n",
    "        ax.set_xlim([-50, 300])\n",
    "        ax.set_ylim([-10, 30])\n",
    "        ax.set_zlim([-30, 70])\n",
    "\n",
    "        plt.plot([i[0] for i in p1], [j[1] for j in p1], [k[2] for k in p1] , '^', color='red', lw = 0.05, markersize = 0.01, alpha=0.5)\n",
    "        plt.plot([i[0] for i in p2], [j[1] for j in p2], [k[2] for k in p2] , '^', color='white', lw = 0.05, markersize = 0.01, alpha=0.5)\n",
    "        plt.plot([i[0] for i in p3], [j[1] for j in p3], [k[2] for k in p3] , '^', color='blue', lw = 0.05, markersize = 0.01, alpha=0.5)\n",
    "        # plt.plot([i[0] for i in p1_prime], [j[1] for j in p1_prime], [k[2] for k in p1_prime], '^', color='blue', lw=0.05, markersize=0.01, alpha=0.5)\n",
    "\n",
    "        plt.axis('on')\n",
    "\n",
    "        # optional: use if reference axes skeleton is desired,\n",
    "        # ie plt.axis is set to 'on'\n",
    "        ax.set_xticks([]), ax.set_yticks([]), ax.set_zticks([])\n",
    "\n",
    "        # make pane's have the same colors as background\n",
    "        ax.w_xaxis.set_pane_color((0.0, 0.0, 0.0, 1.0)), ax.w_yaxis.set_pane_color((0.0, 0.0, 0.0, 1.0)), ax.w_zaxis.set_pane_color((0.0, 0.0, 0.0, 1.0))\n",
    "        ax.view_init(elev = 20, azim = i//1000)\n",
    "        plt.savefig('{}'.format(i//1000), bbox_inches='tight', dpi=300)\n",
    "        plt.close()"
   ]
  },
  {
   "cell_type": "code",
   "execution_count": 8,
   "id": "70f98933",
   "metadata": {},
   "outputs": [
    {
     "data": {
      "image/png": "[encoded data removed]",
      "text/plain": [
       "<Figure size 720x720 with 1 Axes>"
      ]
     },
     "metadata": {},
     "output_type": "display_data"
    }
   ],
   "source": [
    "fig = plt.figure(figsize=(10, 10))\n",
    "ax = fig.gca(projection='3d')\n",
    "plt.gca().patch.set_facecolor('black')\n",
    "\n",
    "plt.plot([i[0] for i in p1], [j[1] for j in p1], [k[2] for k in p1] , '^', color='red', lw = 0.05, markersize = 0.01, alpha=0.5)\n",
    "plt.plot([i[0] for i in p2], [j[1] for j in p2], [k[2] for k in p2] , '^', color='white', lw = 0.05, markersize = 0.01, alpha=0.5)\n",
    "plt.plot([i[0] for i in p3], [j[1] for j in p3], [k[2] for k in p3] , '^', color='blue', lw = 0.05, markersize = 0.01, alpha=0.5)\n",
    "# plt.plot([i[0] for i in p2_prime], [j[1] for j in p2_prime], [k[2] for k in p2_prime], '^', color='blue', lw=0.05, markersize=0.01, alpha=0.5)\n",
    "\n",
    "plt.axis('on')\n",
    "\n",
    "# optional: use if reference axes skeleton is desired,\n",
    "# ie plt.axis is set to 'on'\n",
    "ax.set_xticks([]), ax.set_yticks([]), ax.set_zticks([])\n",
    "\n",
    "# make pane's have the same colors as background\n",
    "ax.w_xaxis.set_pane_color((0.0, 0.0, 0.0, 1.0)), ax.w_yaxis.set_pane_color((0.0, 0.0, 0.0, 1.0)), ax.w_zaxis.set_pane_color((0.0, 0.0, 0.0, 1.0))\n",
    "\n",
    "ax.view_init(elev = 20, azim = t)\n",
    "plt.savefig('{}'.format(t), dpi=300, bbox_inches='tight')\n",
    "plt.show()\n",
    "plt.close()"
   ]
  },
  {
   "cell_type": "code",
   "execution_count": 18,
   "id": "c9e38486",
   "metadata": {},
   "outputs": [
    {
     "ename": "ValueError",
     "evalue": "x and y must have same first dimension, but have shapes (1,) and (100000,)",
     "output_type": "error",
     "traceback": [
      "\u001b[0;31m---------------------------------------------------------------------------\u001b[0m",
      "\u001b[0;31mValueError\u001b[0m                                Traceback (most recent call last)",
      "\u001b[0;32m<ipython-input-18-73ec3817c3c1>\u001b[0m in \u001b[0;36m<module>\u001b[0;34m\u001b[0m\n\u001b[1;32m     15\u001b[0m \u001b[0;34m\u001b[0m\u001b[0m\n\u001b[1;32m     16\u001b[0m \u001b[0mfig\u001b[0m\u001b[0;34m,\u001b[0m \u001b[0max\u001b[0m \u001b[0;34m=\u001b[0m \u001b[0mplt\u001b[0m\u001b[0;34m.\u001b[0m\u001b[0msubplots\u001b[0m\u001b[0;34m(\u001b[0m\u001b[0;34m)\u001b[0m\u001b[0;34m\u001b[0m\u001b[0;34m\u001b[0m\u001b[0m\n\u001b[0;32m---> 17\u001b[0;31m \u001b[0max\u001b[0m\u001b[0;34m.\u001b[0m\u001b[0mplot\u001b[0m\u001b[0;34m(\u001b[0m\u001b[0mtime\u001b[0m\u001b[0;34m,\u001b[0m \u001b[0mdistance_1\u001b[0m\u001b[0;34m,\u001b[0m \u001b[0malpha\u001b[0m\u001b[0;34m=\u001b[0m\u001b[0;36m0.5\u001b[0m\u001b[0;34m,\u001b[0m \u001b[0mcolor\u001b[0m\u001b[0;34m=\u001b[0m\u001b[0;34m'red'\u001b[0m\u001b[0;34m)\u001b[0m\u001b[0;34m\u001b[0m\u001b[0;34m\u001b[0m\u001b[0m\n\u001b[0m\u001b[1;32m     18\u001b[0m \u001b[0max\u001b[0m\u001b[0;34m.\u001b[0m\u001b[0mplot\u001b[0m\u001b[0;34m(\u001b[0m\u001b[0mtime\u001b[0m\u001b[0;34m,\u001b[0m \u001b[0mdistance_2\u001b[0m\u001b[0;34m,\u001b[0m \u001b[0malpha\u001b[0m\u001b[0;34m=\u001b[0m\u001b[0;36m0.5\u001b[0m\u001b[0;34m,\u001b[0m \u001b[0mcolor\u001b[0m\u001b[0;34m=\u001b[0m\u001b[0;34m'grey'\u001b[0m\u001b[0;34m)\u001b[0m\u001b[0;34m\u001b[0m\u001b[0;34m\u001b[0m\u001b[0m\n\u001b[1;32m     19\u001b[0m \u001b[0max\u001b[0m\u001b[0;34m.\u001b[0m\u001b[0mplot\u001b[0m\u001b[0;34m(\u001b[0m\u001b[0mtime\u001b[0m\u001b[0;34m,\u001b[0m \u001b[0mdistance_3\u001b[0m\u001b[0;34m,\u001b[0m \u001b[0malpha\u001b[0m\u001b[0;34m=\u001b[0m\u001b[0;36m0.5\u001b[0m\u001b[0;34m,\u001b[0m \u001b[0mcolor\u001b[0m\u001b[0;34m=\u001b[0m\u001b[0;34m'blue'\u001b[0m\u001b[0;34m)\u001b[0m\u001b[0;34m\u001b[0m\u001b[0;34m\u001b[0m\u001b[0m\n",
      "\u001b[0;32m~/opt/anaconda3/lib/python3.8/site-packages/matplotlib/axes/_axes.py\u001b[0m in \u001b[0;36mplot\u001b[0;34m(self, scalex, scaley, data, *args, **kwargs)\u001b[0m\n\u001b[1;32m   1741\u001b[0m         \"\"\"\n\u001b[1;32m   1742\u001b[0m         \u001b[0mkwargs\u001b[0m \u001b[0;34m=\u001b[0m \u001b[0mcbook\u001b[0m\u001b[0;34m.\u001b[0m\u001b[0mnormalize_kwargs\u001b[0m\u001b[0;34m(\u001b[0m\u001b[0mkwargs\u001b[0m\u001b[0;34m,\u001b[0m \u001b[0mmlines\u001b[0m\u001b[0;34m.\u001b[0m\u001b[0mLine2D\u001b[0m\u001b[0;34m)\u001b[0m\u001b[0;34m\u001b[0m\u001b[0;34m\u001b[0m\u001b[0m\n\u001b[0;32m-> 1743\u001b[0;31m         \u001b[0mlines\u001b[0m \u001b[0;34m=\u001b[0m \u001b[0;34m[\u001b[0m\u001b[0;34m*\u001b[0m\u001b[0mself\u001b[0m\u001b[0;34m.\u001b[0m\u001b[0m_get_lines\u001b[0m\u001b[0;34m(\u001b[0m\u001b[0;34m*\u001b[0m\u001b[0margs\u001b[0m\u001b[0;34m,\u001b[0m \u001b[0mdata\u001b[0m\u001b[0;34m=\u001b[0m\u001b[0mdata\u001b[0m\u001b[0;34m,\u001b[0m \u001b[0;34m**\u001b[0m\u001b[0mkwargs\u001b[0m\u001b[0;34m)\u001b[0m\u001b[0;34m]\u001b[0m\u001b[0;34m\u001b[0m\u001b[0;34m\u001b[0m\u001b[0m\n\u001b[0m\u001b[1;32m   1744\u001b[0m         \u001b[0;32mfor\u001b[0m \u001b[0mline\u001b[0m \u001b[0;32min\u001b[0m \u001b[0mlines\u001b[0m\u001b[0;34m:\u001b[0m\u001b[0;34m\u001b[0m\u001b[0;34m\u001b[0m\u001b[0m\n\u001b[1;32m   1745\u001b[0m             \u001b[0mself\u001b[0m\u001b[0;34m.\u001b[0m\u001b[0madd_line\u001b[0m\u001b[0;34m(\u001b[0m\u001b[0mline\u001b[0m\u001b[0;34m)\u001b[0m\u001b[0;34m\u001b[0m\u001b[0;34m\u001b[0m\u001b[0m\n",
      "\u001b[0;32m~/opt/anaconda3/lib/python3.8/site-packages/matplotlib/axes/_base.py\u001b[0m in \u001b[0;36m__call__\u001b[0;34m(self, data, *args, **kwargs)\u001b[0m\n\u001b[1;32m    271\u001b[0m                 \u001b[0mthis\u001b[0m \u001b[0;34m+=\u001b[0m \u001b[0margs\u001b[0m\u001b[0;34m[\u001b[0m\u001b[0;36m0\u001b[0m\u001b[0;34m]\u001b[0m\u001b[0;34m,\u001b[0m\u001b[0;34m\u001b[0m\u001b[0;34m\u001b[0m\u001b[0m\n\u001b[1;32m    272\u001b[0m                 \u001b[0margs\u001b[0m \u001b[0;34m=\u001b[0m \u001b[0margs\u001b[0m\u001b[0;34m[\u001b[0m\u001b[0;36m1\u001b[0m\u001b[0;34m:\u001b[0m\u001b[0;34m]\u001b[0m\u001b[0;34m\u001b[0m\u001b[0;34m\u001b[0m\u001b[0m\n\u001b[0;32m--> 273\u001b[0;31m             \u001b[0;32myield\u001b[0m \u001b[0;32mfrom\u001b[0m \u001b[0mself\u001b[0m\u001b[0;34m.\u001b[0m\u001b[0m_plot_args\u001b[0m\u001b[0;34m(\u001b[0m\u001b[0mthis\u001b[0m\u001b[0;34m,\u001b[0m \u001b[0mkwargs\u001b[0m\u001b[0;34m)\u001b[0m\u001b[0;34m\u001b[0m\u001b[0;34m\u001b[0m\u001b[0m\n\u001b[0m\u001b[1;32m    274\u001b[0m \u001b[0;34m\u001b[0m\u001b[0m\n\u001b[1;32m    275\u001b[0m     \u001b[0;32mdef\u001b[0m \u001b[0mget_next_color\u001b[0m\u001b[0;34m(\u001b[0m\u001b[0mself\u001b[0m\u001b[0;34m)\u001b[0m\u001b[0;34m:\u001b[0m\u001b[0;34m\u001b[0m\u001b[0;34m\u001b[0m\u001b[0m\n",
      "\u001b[0;32m~/opt/anaconda3/lib/python3.8/site-packages/matplotlib/axes/_base.py\u001b[0m in \u001b[0;36m_plot_args\u001b[0;34m(self, tup, kwargs)\u001b[0m\n\u001b[1;32m    397\u001b[0m \u001b[0;34m\u001b[0m\u001b[0m\n\u001b[1;32m    398\u001b[0m         \u001b[0;32mif\u001b[0m \u001b[0mx\u001b[0m\u001b[0;34m.\u001b[0m\u001b[0mshape\u001b[0m\u001b[0;34m[\u001b[0m\u001b[0;36m0\u001b[0m\u001b[0;34m]\u001b[0m \u001b[0;34m!=\u001b[0m \u001b[0my\u001b[0m\u001b[0;34m.\u001b[0m\u001b[0mshape\u001b[0m\u001b[0;34m[\u001b[0m\u001b[0;36m0\u001b[0m\u001b[0;34m]\u001b[0m\u001b[0;34m:\u001b[0m\u001b[0;34m\u001b[0m\u001b[0;34m\u001b[0m\u001b[0m\n\u001b[0;32m--> 399\u001b[0;31m             raise ValueError(f\"x and y must have same first dimension, but \"\n\u001b[0m\u001b[1;32m    400\u001b[0m                              f\"have shapes {x.shape} and {y.shape}\")\n\u001b[1;32m    401\u001b[0m         \u001b[0;32mif\u001b[0m \u001b[0mx\u001b[0m\u001b[0;34m.\u001b[0m\u001b[0mndim\u001b[0m \u001b[0;34m>\u001b[0m \u001b[0;36m2\u001b[0m \u001b[0;32mor\u001b[0m \u001b[0my\u001b[0m\u001b[0;34m.\u001b[0m\u001b[0mndim\u001b[0m \u001b[0;34m>\u001b[0m \u001b[0;36m2\u001b[0m\u001b[0;34m:\u001b[0m\u001b[0;34m\u001b[0m\u001b[0;34m\u001b[0m\u001b[0m\n",
      "\u001b[0;31mValueError\u001b[0m: x and y must have same first dimension, but have shapes (1,) and (100000,)"
     ]
    },
    {
     "data": {
      "image/png": "[encoded data removed]",
      "text/plain": [
       "<Figure size 432x288 with 1 Axes>"
      ]
     },
     "metadata": {},
     "output_type": "display_data"
    }
   ],
   "source": [
    "# Plots the distance between the original and shifted points over time\n",
    "\n",
    "distance_2 = []\n",
    "for i in range(steps):\n",
    "    distance_2.append(np.sqrt(np.sum([j**2 for j in p2[i] - p2_prime[i]])))\n",
    "\n",
    "distance_1 = []\n",
    "for i in range(steps):\n",
    "    distance_1.append(np.sqrt(np.sum([j**2 for j in p1[i] - p1_prime[i]])))\n",
    "\n",
    "distance_3 = []\n",
    "for i in range(steps):\n",
    "    distance_3.append(np.sqrt(np.sum([j**2 for j in p3[i] - p3_prime[i]])))\n",
    "\n",
    "\n",
    "fig, ax = plt.subplots()\n",
    "ax.plot(time, distance_1, alpha=0.5, color='red')\n",
    "ax.plot(time, distance_2, alpha=0.5, color='grey')\n",
    "ax.plot(time, distance_3, alpha=0.5, color='blue')\n",
    "plt.ylim(0, 120)\n",
    "ax.set(xlabel='time', ylabel='Distance')\n",
    "plt.show()\n",
    "# plt.savefig('{}.png'.format(t), dpi=300)\n",
    "plt.close()"
   ]
  },
  {
   "cell_type": "code",
   "execution_count": 17,
   "id": "ef7b3c99",
   "metadata": {},
   "outputs": [],
   "source": [
    "import imageio\n",
    "\n",
    "gif_images = []\n",
    "for i in range(0, 100):\n",
    "    gif_images.append(imageio.imread(str(i)+\".png\"))   # 读取图片\n",
    "imageio.mimsave(\"3_body1.gif\", gif_images, fps=10)   # 转化为gif动画"
   ]
  },
  {
   "cell_type": "code",
   "execution_count": null,
   "id": "639252e6",
   "metadata": {},
   "outputs": [],
   "source": []
  }
 ],
 "metadata": {
  "kernelspec": {
   "display_name": "Python 3",
   "language": "python",
   "name": "python3"
  },
  "language_info": {
   "codemirror_mode": {
    "name": "ipython",
    "version": 3
   },
   "file_extension": ".py",
   "mimetype": "text/x-python",
   "name": "python",
   "nbconvert_exporter": "python",
   "pygments_lexer": "ipython3",
   "version": "3.8.8"
  }
 },
 "nbformat": 4,
 "nbformat_minor": 5
}
